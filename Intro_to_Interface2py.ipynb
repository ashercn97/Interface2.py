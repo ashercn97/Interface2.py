{
  "nbformat": 4,
  "nbformat_minor": 0,
  "metadata": {
    "colab": {
      "provenance": []
    },
    "kernelspec": {
      "name": "python3",
      "display_name": "Python 3"
    },
    "language_info": {
      "name": "python"
    }
  },
  "cells": [
    {
      "cell_type": "markdown",
      "source": [
        "#Here is an intro to Interface2py\n",
        "\n",
        "Interface2py is a python implementation of Typescript interfaces. It is meant for extreme type safety, while still having the rest of the flexibility of python\n",
        "To use Interface2py, or IF4 for short (dont ask haha), you can follow this short tutorial."
      ],
      "metadata": {
        "id": "GMUb5mu1VlTc"
      }
    },
    {
      "cell_type": "markdown",
      "source": [
        "The first step is to install Interface2py. I recomend using pip."
      ],
      "metadata": {
        "id": "DkCnlS0XYA5u"
      }
    },
    {
      "cell_type": "code",
      "execution_count": null,
      "metadata": {
        "id": "a_KsuIFkViJS"
      },
      "outputs": [],
      "source": [
        "!python3 -m pip install Interface2py"
      ]
    },
    {
      "cell_type": "markdown",
      "source": [
        "Next, since there is some weird bug type thing, you need to cd your way to the correct folder"
      ],
      "metadata": {
        "id": "Wkv63f_NYKk3"
      }
    },
    {
      "cell_type": "code",
      "source": [
        "%cd /usr/local/lib/\n",
        "%cd python3.10/\n",
        "%cd dist-packages/\n"
      ],
      "metadata": {
        "id": "NdJeZYfvYPDF"
      },
      "execution_count": null,
      "outputs": []
    },
    {
      "cell_type": "markdown",
      "source": [
        "Then, you can import IF4 (the main file) and the json generator file if you want\n",
        "\n"
      ],
      "metadata": {
        "id": "tEDVqOnEYeJl"
      }
    },
    {
      "cell_type": "code",
      "source": [
        "import IF4\n",
        "import jsonGen2\n",
        "# if you want, you can only import the Interface class\n",
        "# from IF4 import Interface"
      ],
      "metadata": {
        "id": "z49e2hGIYgJK"
      },
      "execution_count": null,
      "outputs": []
    },
    {
      "cell_type": "markdown",
      "source": [
        "Next, you can cd to the decorators folder and import the decorators you desire"
      ],
      "metadata": {
        "id": "bUCzuSdHYoSm"
      }
    },
    {
      "cell_type": "code",
      "source": [
        "%cd decorators\n",
        "from immutableIF4 import immutable\n",
        "from manuvalIF4 import manuval\n",
        "from multipleIF4 import multiple\n",
        "from optionalIF4 import optional\n",
        "from restrictedIF4 import restricted"
      ],
      "metadata": {
        "id": "yxB_Sbe9Yxtw"
      },
      "execution_count": null,
      "outputs": []
    },
    {
      "cell_type": "markdown",
      "source": [
        "Finally, you can use it! I will write some example code, but after this it is up to you !"
      ],
      "metadata": {
        "id": "BbIRRQU3ZBek"
      }
    },
    {
      "cell_type": "code",
      "source": [
        "@optional\n",
        "class User(IF4.Interface):\n",
        "  _properties = {\n",
        "      \"name?\": str,\n",
        "      \"age?\": int,\n",
        "      \"loggedin\": bool\n",
        "  }\n",
        "\n",
        "# this interface provides a basic example of creating a sign-up thing!\n",
        "\n",
        "# for more check the examples foleder on the github repo!!"
      ],
      "metadata": {
        "id": "aApeLpGMZGL_"
      },
      "execution_count": null,
      "outputs": []
    }
  ]
}